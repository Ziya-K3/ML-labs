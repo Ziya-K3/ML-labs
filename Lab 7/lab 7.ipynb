{
 "cells": [
  {
   "cell_type": "markdown",
   "metadata": {},
   "source": [
    "## 1. Data PreProcessing"
   ]
  },
  {
   "cell_type": "code",
   "execution_count": 64,
   "metadata": {},
   "outputs": [
    {
     "data": {
      "text/html": [
       "<div>\n",
       "<style scoped>\n",
       "    .dataframe tbody tr th:only-of-type {\n",
       "        vertical-align: middle;\n",
       "    }\n",
       "\n",
       "    .dataframe tbody tr th {\n",
       "        vertical-align: top;\n",
       "    }\n",
       "\n",
       "    .dataframe thead th {\n",
       "        text-align: right;\n",
       "    }\n",
       "</style>\n",
       "<table border=\"1\" class=\"dataframe\">\n",
       "  <thead>\n",
       "    <tr style=\"text-align: right;\">\n",
       "      <th></th>\n",
       "      <th>age</th>\n",
       "      <th>sex</th>\n",
       "      <th>bmi</th>\n",
       "      <th>children</th>\n",
       "      <th>smoker</th>\n",
       "      <th>region</th>\n",
       "      <th>charges</th>\n",
       "    </tr>\n",
       "  </thead>\n",
       "  <tbody>\n",
       "    <tr>\n",
       "      <th>0</th>\n",
       "      <td>19</td>\n",
       "      <td>female</td>\n",
       "      <td>27.900</td>\n",
       "      <td>0</td>\n",
       "      <td>yes</td>\n",
       "      <td>southwest</td>\n",
       "      <td>16884.92400</td>\n",
       "    </tr>\n",
       "    <tr>\n",
       "      <th>1</th>\n",
       "      <td>18</td>\n",
       "      <td>male</td>\n",
       "      <td>33.770</td>\n",
       "      <td>1</td>\n",
       "      <td>no</td>\n",
       "      <td>southeast</td>\n",
       "      <td>1725.55230</td>\n",
       "    </tr>\n",
       "    <tr>\n",
       "      <th>2</th>\n",
       "      <td>28</td>\n",
       "      <td>male</td>\n",
       "      <td>33.000</td>\n",
       "      <td>3</td>\n",
       "      <td>no</td>\n",
       "      <td>southeast</td>\n",
       "      <td>4449.46200</td>\n",
       "    </tr>\n",
       "    <tr>\n",
       "      <th>3</th>\n",
       "      <td>33</td>\n",
       "      <td>male</td>\n",
       "      <td>22.705</td>\n",
       "      <td>0</td>\n",
       "      <td>no</td>\n",
       "      <td>northwest</td>\n",
       "      <td>21984.47061</td>\n",
       "    </tr>\n",
       "    <tr>\n",
       "      <th>4</th>\n",
       "      <td>32</td>\n",
       "      <td>male</td>\n",
       "      <td>28.880</td>\n",
       "      <td>0</td>\n",
       "      <td>no</td>\n",
       "      <td>northwest</td>\n",
       "      <td>3866.85520</td>\n",
       "    </tr>\n",
       "  </tbody>\n",
       "</table>\n",
       "</div>"
      ],
      "text/plain": [
       "   age     sex     bmi  children smoker     region      charges\n",
       "0   19  female  27.900         0    yes  southwest  16884.92400\n",
       "1   18    male  33.770         1     no  southeast   1725.55230\n",
       "2   28    male  33.000         3     no  southeast   4449.46200\n",
       "3   33    male  22.705         0     no  northwest  21984.47061\n",
       "4   32    male  28.880         0     no  northwest   3866.85520"
      ]
     },
     "execution_count": 64,
     "metadata": {},
     "output_type": "execute_result"
    }
   ],
   "source": [
    "import pandas as pd\n",
    "df = pd.read_csv(r\"C:\\Users\\kezya_sxr\\OneDrive\\Desktop\\KEZYA\\ML\\LAB\\Lab 7\\insurance (1).csv\")\n",
    "df.head()"
   ]
  },
  {
   "cell_type": "code",
   "execution_count": 65,
   "metadata": {},
   "outputs": [
    {
     "name": "stdout",
     "output_type": "stream",
     "text": [
      "<class 'pandas.core.frame.DataFrame'>\n",
      "RangeIndex: 1338 entries, 0 to 1337\n",
      "Data columns (total 7 columns):\n",
      " #   Column    Non-Null Count  Dtype  \n",
      "---  ------    --------------  -----  \n",
      " 0   age       1338 non-null   int64  \n",
      " 1   sex       1338 non-null   object \n",
      " 2   bmi       1338 non-null   float64\n",
      " 3   children  1338 non-null   int64  \n",
      " 4   smoker    1338 non-null   object \n",
      " 5   region    1338 non-null   object \n",
      " 6   charges   1338 non-null   float64\n",
      "dtypes: float64(2), int64(2), object(3)\n",
      "memory usage: 73.3+ KB\n"
     ]
    }
   ],
   "source": [
    "df.info()"
   ]
  },
  {
   "cell_type": "code",
   "execution_count": 66,
   "metadata": {},
   "outputs": [
    {
     "data": {
      "text/html": [
       "<div>\n",
       "<style scoped>\n",
       "    .dataframe tbody tr th:only-of-type {\n",
       "        vertical-align: middle;\n",
       "    }\n",
       "\n",
       "    .dataframe tbody tr th {\n",
       "        vertical-align: top;\n",
       "    }\n",
       "\n",
       "    .dataframe thead th {\n",
       "        text-align: right;\n",
       "    }\n",
       "</style>\n",
       "<table border=\"1\" class=\"dataframe\">\n",
       "  <thead>\n",
       "    <tr style=\"text-align: right;\">\n",
       "      <th></th>\n",
       "      <th>age</th>\n",
       "      <th>bmi</th>\n",
       "      <th>children</th>\n",
       "      <th>charges</th>\n",
       "    </tr>\n",
       "  </thead>\n",
       "  <tbody>\n",
       "    <tr>\n",
       "      <th>count</th>\n",
       "      <td>1338.000000</td>\n",
       "      <td>1338.000000</td>\n",
       "      <td>1338.000000</td>\n",
       "      <td>1338.000000</td>\n",
       "    </tr>\n",
       "    <tr>\n",
       "      <th>mean</th>\n",
       "      <td>39.207025</td>\n",
       "      <td>30.663397</td>\n",
       "      <td>1.094918</td>\n",
       "      <td>13270.422265</td>\n",
       "    </tr>\n",
       "    <tr>\n",
       "      <th>std</th>\n",
       "      <td>14.049960</td>\n",
       "      <td>6.098187</td>\n",
       "      <td>1.205493</td>\n",
       "      <td>12110.011237</td>\n",
       "    </tr>\n",
       "    <tr>\n",
       "      <th>min</th>\n",
       "      <td>18.000000</td>\n",
       "      <td>15.960000</td>\n",
       "      <td>0.000000</td>\n",
       "      <td>1121.873900</td>\n",
       "    </tr>\n",
       "    <tr>\n",
       "      <th>25%</th>\n",
       "      <td>27.000000</td>\n",
       "      <td>26.296250</td>\n",
       "      <td>0.000000</td>\n",
       "      <td>4740.287150</td>\n",
       "    </tr>\n",
       "    <tr>\n",
       "      <th>50%</th>\n",
       "      <td>39.000000</td>\n",
       "      <td>30.400000</td>\n",
       "      <td>1.000000</td>\n",
       "      <td>9382.033000</td>\n",
       "    </tr>\n",
       "    <tr>\n",
       "      <th>75%</th>\n",
       "      <td>51.000000</td>\n",
       "      <td>34.693750</td>\n",
       "      <td>2.000000</td>\n",
       "      <td>16639.912515</td>\n",
       "    </tr>\n",
       "    <tr>\n",
       "      <th>max</th>\n",
       "      <td>64.000000</td>\n",
       "      <td>53.130000</td>\n",
       "      <td>5.000000</td>\n",
       "      <td>63770.428010</td>\n",
       "    </tr>\n",
       "  </tbody>\n",
       "</table>\n",
       "</div>"
      ],
      "text/plain": [
       "               age          bmi     children       charges\n",
       "count  1338.000000  1338.000000  1338.000000   1338.000000\n",
       "mean     39.207025    30.663397     1.094918  13270.422265\n",
       "std      14.049960     6.098187     1.205493  12110.011237\n",
       "min      18.000000    15.960000     0.000000   1121.873900\n",
       "25%      27.000000    26.296250     0.000000   4740.287150\n",
       "50%      39.000000    30.400000     1.000000   9382.033000\n",
       "75%      51.000000    34.693750     2.000000  16639.912515\n",
       "max      64.000000    53.130000     5.000000  63770.428010"
      ]
     },
     "execution_count": 66,
     "metadata": {},
     "output_type": "execute_result"
    }
   ],
   "source": [
    "df.describe()"
   ]
  },
  {
   "cell_type": "code",
   "execution_count": 67,
   "metadata": {},
   "outputs": [
    {
     "data": {
      "text/plain": [
       "age         0\n",
       "sex         0\n",
       "bmi         0\n",
       "children    0\n",
       "smoker      0\n",
       "region      0\n",
       "charges     0\n",
       "dtype: int64"
      ]
     },
     "execution_count": 67,
     "metadata": {},
     "output_type": "execute_result"
    }
   ],
   "source": [
    "df.isnull().sum()"
   ]
  },
  {
   "cell_type": "code",
   "execution_count": 68,
   "metadata": {},
   "outputs": [
    {
     "data": {
      "text/plain": [
       "Index(['age', 'sex', 'bmi', 'children', 'smoker', 'region', 'charges'], dtype='object')"
      ]
     },
     "execution_count": 68,
     "metadata": {},
     "output_type": "execute_result"
    }
   ],
   "source": [
    "df.columns"
   ]
  },
  {
   "cell_type": "code",
   "execution_count": 69,
   "metadata": {},
   "outputs": [
    {
     "name": "stdout",
     "output_type": "stream",
     "text": [
      "region cl before encoding ['southwest' 'southeast' 'northwest' 'northeast']\n",
      "sex cl before encoding ['female' 'male']\n",
      "smoker cl before encoding ['yes' 'no']\n"
     ]
    }
   ],
   "source": [
    "print( \"region cl before encoding\", df[\"region\"].unique())\n",
    "print( \"sex cl before encoding\", df[\"sex\"]. unique())\n",
    "print( \"smoker cl before encoding\", df[\"smoker\"].unique())"
   ]
  },
  {
   "cell_type": "code",
   "execution_count": 70,
   "metadata": {},
   "outputs": [
    {
     "name": "stdout",
     "output_type": "stream",
     "text": [
      "region cl after encoding [3 2 1 0]\n",
      "sex cl after encoding [0 1]\n",
      "smoker cl after encoding [1 0]\n"
     ]
    }
   ],
   "source": [
    "from sklearn import preprocessing\n",
    "label_enc = preprocessing.LabelEncoder()\n",
    "df[\"region\"] = label_enc.fit_transform(df[\"region\"])\n",
    "df[\"sex\"] = label_enc.fit_transform(df[\"sex\"])\n",
    "df[\"smoker\"] = label_enc.fit_transform(df[\"smoker\"])\n",
    "print( \"region cl after encoding\", df[\"region\"].unique())\n",
    "print( \"sex cl after encoding\", df[\"sex\"]. unique())\n",
    "print( \"smoker cl after encoding\", df[\"smoker\"].unique())\n",
    "\n"
   ]
  },
  {
   "cell_type": "code",
   "execution_count": 71,
   "metadata": {},
   "outputs": [
    {
     "name": "stdout",
     "output_type": "stream",
     "text": [
      "unique bmi values [27.9   33.77  33.    22.705 28.88  25.74  33.44  27.74  29.83  25.84\n",
      " 26.22  26.29  34.4   39.82  42.13  24.6   30.78  23.845 40.3   35.3\n",
      " 36.005 32.4   34.1   31.92  28.025 27.72  23.085 32.775 17.385 36.3\n",
      " 35.6   26.315 28.6   28.31  36.4   20.425 32.965 20.8   36.67  39.9\n",
      " 26.6   36.63  21.78  30.8   37.05  37.3   38.665 34.77  24.53  35.2\n",
      " 35.625 33.63  28.    34.43  28.69  36.955 31.825 31.68  22.88  37.335\n",
      " 27.36  33.66  24.7   25.935 22.42  28.9   39.1   36.19  23.98  24.75\n",
      " 28.5   28.1   32.01  27.4   34.01  29.59  35.53  39.805 26.885 38.285\n",
      " 37.62  41.23  34.8   22.895 31.16  27.2   26.98  39.49  24.795 31.3\n",
      " 38.28  19.95  19.3   31.6   25.46  30.115 29.92  27.5   28.4   30.875\n",
      " 27.94  35.09  29.7   35.72  32.205 28.595 49.06  27.17  23.37  37.1\n",
      " 23.75  28.975 31.35  33.915 28.785 28.3   37.4   17.765 34.7   26.505\n",
      " 22.04  35.9   25.555 28.05  25.175 31.9   36.    32.49  25.3   29.735\n",
      " 38.83  30.495 37.73  37.43  24.13  37.145 39.52  24.42  27.83  36.85\n",
      " 39.6   29.8   29.64  28.215 37.    33.155 18.905 41.47  30.3   15.96\n",
      " 33.345 37.7   27.835 29.2   26.41  30.69  41.895 30.9   32.2   32.11\n",
      " 31.57  26.2   30.59  32.8   18.05  39.33  32.23  24.035 36.08  22.3\n",
      " 26.4   31.8   26.73  23.1   23.21  33.7   33.25  24.64  33.88  38.06\n",
      " 41.91  31.635 36.195 17.8   24.51  22.22  38.39  29.07  22.135 26.8\n",
      " 30.02  35.86  20.9   17.29  34.21  25.365 40.15  24.415 25.2   26.84\n",
      " 24.32  42.35  19.8   32.395 30.2   29.37  34.2   27.455 27.55  20.615\n",
      " 24.3   31.79  21.56  28.12  40.565 27.645 31.2   26.62  48.07  36.765\n",
      " 33.4   45.54  28.82  22.99  27.7   25.41  34.39  22.61  37.51  38.\n",
      " 33.33  34.865 33.06  35.97  31.4   25.27  40.945 34.105 36.48  33.8\n",
      " 36.7   36.385 34.5   32.3   27.6   29.26  35.75  23.18  25.6   35.245\n",
      " 43.89  20.79  30.5   21.7   21.89  24.985 32.015 30.4   21.09  22.23\n",
      " 32.9   24.89  31.46  17.955 30.685 43.34  39.05  30.21  31.445 19.855\n",
      " 31.02  38.17  20.6   47.52  20.4   38.38  24.31  23.6   21.12  30.03\n",
      " 17.48  20.235 17.195 23.9   35.15  35.64  22.6   39.16  27.265 29.165\n",
      " 16.815 33.1   26.9   33.11  31.73  46.75  29.45  32.68  33.5   43.01\n",
      " 36.52  26.695 25.65  29.6   38.6   23.4   46.53  30.14  30.    38.095\n",
      " 28.38  28.7   33.82  24.09  32.67  25.1   32.56  41.325 39.5   34.3\n",
      " 31.065 21.47  25.08  43.4   25.7   27.93  39.2   26.03  30.25  28.93\n",
      " 35.7   35.31  31.    44.22  26.07  25.8   39.425 40.48  38.9   47.41\n",
      " 35.435 46.7   46.2   21.4   23.8   44.77  32.12  29.1   37.29  43.12\n",
      " 36.86  34.295 23.465 45.43  23.65  20.7   28.27  35.91  29.    19.57\n",
      " 31.13  21.85  40.26  33.725 29.48  32.6   37.525 23.655 37.8   19.\n",
      " 21.3   33.535 42.46  38.95  36.1   29.3   39.7   38.19  42.4   34.96\n",
      " 42.68  31.54  29.81  21.375 40.81  17.4   20.3   18.5   26.125 41.69\n",
      " 24.1   36.2   40.185 39.27  34.87  44.745 29.545 23.54  40.47  40.66\n",
      " 36.6   35.4   27.075 28.405 21.755 40.28  30.1   32.1   23.7   35.5\n",
      " 29.15  27.    37.905 22.77  22.8   34.58  27.1   19.475 26.7   34.32\n",
      " 24.4   41.14  22.515 41.8   26.18  42.24  26.51  35.815 41.42  36.575\n",
      " 42.94  21.01  24.225 17.67  31.5   31.1   32.78  32.45  50.38  47.6\n",
      " 25.4   29.9   43.7   24.86  28.8   29.5   29.04  38.94  44.    20.045\n",
      " 40.92  35.1   29.355 32.585 32.34  39.8   24.605 33.99  28.2   25.\n",
      " 33.2   23.2   20.1   32.5   37.18  46.09  39.93  35.8   31.255 18.335\n",
      " 42.9   26.79  39.615 25.9   25.745 28.16  23.56  40.5   35.42  39.995\n",
      " 34.675 20.52  23.275 36.29  32.7   19.19  20.13  23.32  45.32  34.6\n",
      " 18.715 21.565 23.    37.07  52.58  42.655 21.66  32.    18.3   47.74\n",
      " 22.1   19.095 31.24  29.925 20.35  25.85  42.75  18.6   23.87  45.9\n",
      " 21.5   30.305 44.88  41.1   40.37  28.49  33.55  40.375 27.28  17.86\n",
      " 33.3   39.14  21.945 24.97  23.94  34.485 21.8   23.3   36.96  21.28\n",
      " 29.4   27.3   37.9   37.715 23.76  25.52  27.61  27.06  39.4   34.9\n",
      " 22.    30.36  27.8   53.13  39.71  32.87  44.7   30.97 ]\n",
      "unique age values [19 18 28 33 32 31 46 37 60 25 62 23 56 27 52 30 34 59 63 55 22 26 35 24\n",
      " 41 38 36 21 48 40 58 53 43 64 20 61 44 57 29 45 54 49 47 51 42 50 39]\n"
     ]
    }
   ],
   "source": [
    "print(\"unique bmi values\", df['bmi'].unique())\n",
    "print(\"unique age values\", df['age'].unique())"
   ]
  },
  {
   "cell_type": "markdown",
   "metadata": {},
   "source": [
    "- **BMI has a wider range and contains outliers so we choose Standardizing i.e StandardScalar**\n",
    "\n",
    "- **Age has a relatively narrow range (18 to 64), and the values are naturally bounded. Hence we choose MinMax**"
   ]
  },
  {
   "cell_type": "code",
   "execution_count": 72,
   "metadata": {},
   "outputs": [],
   "source": [
    "from sklearn.preprocessing import StandardScaler , MinMaxScaler\n",
    "std_scl = StandardScaler()\n",
    "min_max = MinMaxScaler()\n"
   ]
  },
  {
   "cell_type": "code",
   "execution_count": 73,
   "metadata": {},
   "outputs": [],
   "source": [
    "df['bmi'] = std_scl.fit_transform(df[['bmi']])\n",
    "df['age'] = min_max.fit_transform(df[['age']])"
   ]
  },
  {
   "cell_type": "code",
   "execution_count": 74,
   "metadata": {},
   "outputs": [
    {
     "name": "stdout",
     "output_type": "stream",
     "text": [
      "unique bmi values [-4.53320001e-01  5.09621097e-01  3.83306847e-01 -1.30553108e+00\n",
      " -2.92556411e-01 -8.07656079e-01  4.55486418e-01 -4.79567118e-01\n",
      " -1.36714155e-01 -7.91251631e-01 -7.28914728e-01 -7.17431614e-01\n",
      "  6.12969119e-01  1.50209020e+00  1.88103295e+00 -9.94666786e-01\n",
      "  1.91281013e-02 -1.11852037e+00  1.58083155e+00  7.60609152e-01\n",
      "  8.76260510e-01  2.84880159e-01  5.63755775e-01  2.06138809e-01\n",
      " -4.32814441e-01 -4.82848008e-01 -1.24319417e+00  3.46396839e-01\n",
      " -2.17824771e+00  9.24653632e-01  8.09822496e-01 -7.13330502e-01\n",
      " -3.38488865e-01 -3.86061765e-01  9.41058080e-01 -1.67955249e+00\n",
      "  3.77565290e-01 -1.61803581e+00  9.85350089e-01  1.51521376e+00\n",
      " -6.66577826e-01  9.78788310e-01 -1.45727222e+00  2.24089909e-02\n",
      "  1.04768699e+00  1.08869811e+00  1.31261883e+00  6.73665577e-01\n",
      " -1.00614990e+00  7.44204704e-01  8.13923608e-01  4.86654870e-01\n",
      " -4.36915553e-01  6.17890454e-01 -3.23724862e-01  1.03210277e+00\n",
      "  1.90554583e-01  1.66768133e-01 -1.27682329e+00  1.09443967e+00\n",
      " -5.41904021e-01  4.91576204e-01 -9.78262338e-01 -7.75667405e-01\n",
      " -1.35228375e+00 -2.89275521e-01  1.38397818e+00  9.06608739e-01\n",
      " -1.09637436e+00 -9.70060114e-01 -3.54893313e-01 -4.20511105e-01\n",
      "  2.20902812e-01 -5.35342242e-01  5.48991772e-01 -1.76084830e-01\n",
      "  7.98339382e-01  1.49962953e+00 -6.19825149e-01  1.25028192e+00\n",
      "  1.14119235e+00  1.73339292e+00  6.78586911e-01 -1.27436262e+00\n",
      "  8.14650038e-02 -5.68151138e-01 -6.04240923e-01  1.44795552e+00\n",
      " -9.62678112e-01  1.04431231e-01  1.24946170e+00 -1.75747362e+00\n",
      " -1.86410253e+00  1.53644575e-01 -8.53588533e-01 -8.99614780e-02\n",
      " -1.21950152e-01 -5.18937794e-01 -3.71297761e-01  3.47123269e-02\n",
      " -4.46758222e-01  7.26159811e-01 -1.58039937e-01  8.29507833e-01\n",
      "  2.52891486e-01 -3.39309088e-01  3.01786120e+00 -5.73072472e-01\n",
      " -1.19644150e+00  1.05588922e+00 -1.13410459e+00 -2.76972185e-01\n",
      "  1.12633455e-01  5.33407547e-01 -3.08140637e-01 -3.87702209e-01\n",
      "  1.10510256e+00 -2.11591081e+00  6.62182463e-01 -6.82162051e-01\n",
      " -1.41462066e+00  8.59035840e-01 -8.38004307e-01 -4.28713329e-01\n",
      " -9.00341210e-01  2.02857919e-01  8.75440288e-01  2.99644162e-01\n",
      " -8.79835650e-01 -1.52298380e-01  1.33968617e+00 -2.76245755e-02\n",
      "  1.15923724e+00  1.11002389e+00 -1.07176769e+00  1.06327122e+00\n",
      "  1.45287686e+00 -1.02419479e+00 -4.64803115e-01  1.01487810e+00\n",
      "  1.46600042e+00 -1.41635489e-01 -1.67882606e-01 -4.01645990e-01\n",
      "  1.03948477e+00  4.08733742e-01 -1.92890010e+00  1.77276359e+00\n",
      " -5.96132491e-02 -2.41201109e+00  4.39902193e-01  1.15431590e+00\n",
      " -4.63982893e-01 -2.40062177e-01 -6.97746277e-01  4.36409811e-03\n",
      "  1.84248250e+00  3.88134389e-02  2.52071263e-01  2.37307260e-01\n",
      "  1.48723241e-01 -7.32195618e-01 -1.20403499e-02  3.50497951e-01\n",
      " -2.06915813e+00  1.42170841e+00  2.56992598e-01 -1.08735192e+00\n",
      "  8.88563846e-01 -1.37196909e+00 -6.99386722e-01  1.86453471e-01\n",
      " -6.45252043e-01 -1.24073351e+00 -1.22268861e+00  4.98137983e-01\n",
      "  4.24317967e-01 -9.88105007e-01  5.27665990e-01  1.21337192e+00\n",
      "  1.84494317e+00  1.59386132e-01  9.07428961e-01 -2.11016925e+00\n",
      " -1.00943079e+00 -1.38509265e+00  1.26750660e+00 -2.61387960e-01\n",
      " -1.39903643e+00 -6.33768930e-01 -1.05545704e-01  8.52474060e-01\n",
      " -1.60163136e+00 -2.19383194e+00  5.81800668e-01 -8.69172759e-01\n",
      "  1.55622488e+00 -1.02501501e+00 -8.96240098e-01 -6.27207150e-01\n",
      " -1.04059924e+00  1.91712274e+00 -1.78208029e+00  2.84059937e-01\n",
      " -7.60176972e-02 -2.12174616e-01  5.80160223e-01 -5.26319795e-01\n",
      " -5.10735570e-01 -1.64838404e+00 -1.04388013e+00  1.84813026e-01\n",
      " -1.49336201e+00 -4.17230216e-01  1.62430334e+00 -4.95151344e-01\n",
      "  8.80267830e-02 -6.63296936e-01  2.85545716e+00  1.00093431e+00\n",
      "  4.48924639e-01  2.44042463e+00 -3.02399080e-01 -1.25877840e+00\n",
      " -4.86128897e-01 -8.61790757e-01  6.11328675e-01 -1.32111530e+00\n",
      "  1.12314745e+00  1.20352925e+00  4.37441526e-01  6.89249803e-01\n",
      "  3.93149516e-01  8.70518953e-01  1.20835679e-01 -8.84756984e-01\n",
      "  1.68664024e+00  5.64575998e-01  9.54181638e-01  5.14542431e-01\n",
      "  9.90271424e-01  9.38597412e-01  6.29373567e-01  2.68475711e-01\n",
      " -5.02533345e-01 -2.30219508e-01  8.34429168e-01 -1.22760995e+00\n",
      " -8.30622306e-01  7.51586705e-01  2.16975124e+00 -1.61967626e+00\n",
      " -2.68043531e-02 -1.47039578e+00 -1.43922733e+00 -9.31509661e-01\n",
      "  2.21723034e-01 -4.32088011e-02 -1.57046291e+00 -1.38345220e+00\n",
      "  3.66902399e-01 -9.47093887e-01  1.30678348e-01 -2.08474236e+00\n",
      "  3.54387571e-03  2.07952677e+00  1.37577595e+00 -7.43772524e-02\n",
      "  1.28217681e-01 -1.77305784e+00  5.84987766e-02  1.23141681e+00\n",
      " -1.65084471e+00  2.76523270e+00 -1.68365360e+00  1.26586615e+00\n",
      " -1.04223969e+00 -1.15871127e+00 -1.56554158e+00 -1.03905259e-01\n",
      " -2.16266348e+00 -1.71072094e+00 -2.20941616e+00 -1.10949792e+00\n",
      "  7.36002480e-01  8.16384275e-01 -1.32275575e+00  1.39382084e+00\n",
      " -5.57488246e-01 -2.45803734e-01 -2.27175306e+00  3.99711295e-01\n",
      " -6.17364482e-01  4.01351740e-01  1.74970357e-01  2.63891845e+00\n",
      " -1.99051057e-01  3.30812614e-01  4.65329087e-01  2.02539209e+00\n",
      "  9.60743417e-01 -6.50993600e-01 -8.22420082e-01 -1.74444385e-01\n",
      "  1.30195594e+00 -1.19152016e+00  2.60282866e+00 -8.58603660e-02\n",
      " -1.08826593e-01  1.21911347e+00 -3.74578651e-01 -3.22084417e-01\n",
      "  5.17823321e-01 -1.07832947e+00  3.29172169e-01 -9.12644546e-01\n",
      "  3.11127276e-01  1.74897714e+00  1.44959597e+00  5.96564671e-01\n",
      "  6.58807782e-02 -1.50812601e+00 -9.15925435e-01  2.08936944e+00\n",
      " -8.14217858e-01 -4.48398667e-01  1.40038262e+00 -7.60083179e-01\n",
      " -6.78154731e-02 -2.84354187e-01  8.26226944e-01  7.62249596e-01\n",
      "  5.52178870e-02  2.22388591e+00 -7.53521400e-01 -7.97813410e-01\n",
      "  1.43729263e+00  1.61035956e+00  1.35116928e+00  2.74718781e+00\n",
      "  7.82755156e-01  2.63071623e+00  2.54869398e+00 -1.51960912e+00\n",
      " -1.12590237e+00  2.31411038e+00  2.38947705e-01 -2.56466625e-01\n",
      "  1.08705767e+00  2.04343699e+00  1.01651854e+00  5.95744449e-01\n",
      " -1.18085727e+00  2.42237974e+00 -1.15050904e+00 -1.63444026e+00\n",
      " -3.92623544e-01  8.60676284e-01 -2.72871073e-01 -1.81981052e+00\n",
      "  7.65436694e-02 -1.44578911e+00  1.57426977e+00  5.02239095e-01\n",
      " -1.94129723e-01  3.17689055e-01  1.12560812e+00 -1.14968882e+00\n",
      "  1.17072035e+00 -1.91331587e+00 -1.53601357e+00  4.71070644e-01\n",
      "  1.93516763e+00  1.35937150e+00  8.91844736e-01 -2.23657729e-01\n",
      "  1.48240486e+00  1.23469770e+00  1.92532496e+00  7.04834028e-01\n",
      "  1.97125741e+00  1.43801906e-01 -1.39995044e-01 -1.52371023e+00\n",
      "  1.66449424e+00 -2.17578704e+00 -1.70005805e+00 -1.99533811e+00\n",
      " -7.44498954e-01  1.80885338e+00 -1.07668903e+00  9.08249184e-01\n",
      "  1.56196644e+00  1.41186574e+00  6.90070025e-01  2.31000927e+00\n",
      " -1.83466832e-01 -1.16855393e+00  1.60871911e+00  1.63988757e+00\n",
      "  9.73866976e-01  7.77013600e-01 -5.88656698e-01 -3.70477539e-01\n",
      " -1.46137333e+00  1.57755066e+00 -9.24221452e-02  2.35666815e-01\n",
      " -1.14230682e+00  7.93418048e-01 -2.48264401e-01 -6.00960034e-01\n",
      "  1.18794502e+00 -1.29486818e+00 -1.28994685e+00  6.42497126e-01\n",
      " -5.84555586e-01 -1.83539475e+00 -6.50173378e-01  5.99845561e-01\n",
      " -1.02747568e+00  1.71862892e+00 -1.33669953e+00  1.82689827e+00\n",
      " -7.35476507e-01  1.89907784e+00 -6.81341829e-01  8.45092059e-01\n",
      "  1.76456137e+00  9.69765864e-01  2.01390898e+00 -1.58358647e+00\n",
      " -1.05618347e+00 -2.13149503e+00  1.37240127e-01  7.16223350e-02\n",
      "  3.47217062e-01  2.93082383e-01  3.23439991e+00  2.77835626e+00\n",
      " -8.63431202e-01 -1.25231041e-01  2.13858278e+00 -9.52015221e-01\n",
      " -3.05679969e-01 -1.90848833e-01 -2.66309294e-01  1.35773106e+00\n",
      "  2.18779613e+00 -1.74188939e+00  1.68253913e+00  7.27800255e-01\n",
      " -2.14635283e-01  3.15228388e-01  2.75037490e-01  1.49880931e+00\n",
      " -9.93846563e-01  5.45710883e-01 -4.04106657e-01 -9.29048994e-01\n",
      "  4.16115743e-01 -1.22432906e+00 -1.73286695e+00  3.01284607e-01\n",
      "  1.06901277e+00  2.53064909e+00  1.52013509e+00  8.42631392e-01\n",
      "  9.70492294e-02 -2.02240545e+00  2.00734720e+00 -6.35409374e-01\n",
      "  1.46846108e+00 -7.81408962e-01 -8.06835856e-01 -4.10668437e-01\n",
      " -1.16527305e+00  1.61364045e+00  7.80294489e-01  1.53079799e+00\n",
      "  6.58081351e-01 -1.66396826e+00 -1.21202572e+00  9.23013187e-01\n",
      "  3.34093503e-01 -1.88214742e+00 -1.72794561e+00 -1.20464372e+00\n",
      "  2.40433484e+00  6.45778015e-01 -1.96006855e+00 -1.49254178e+00\n",
      " -1.25713795e+00  1.05096788e+00  3.59529777e+00  1.96715630e+00\n",
      " -1.47695756e+00  2.19262367e-01 -2.02814701e+00  2.80132248e+00\n",
      " -1.40477799e+00 -1.89773165e+00  9.45885622e-02 -1.21129929e-01\n",
      " -1.69185583e+00 -7.89611186e-01  1.98274053e+00 -1.97893367e+00\n",
      " -1.11441926e+00  2.49948064e+00 -1.50320467e+00 -5.87930267e-02\n",
      "  2.33215527e+00  1.71206714e+00  1.59231467e+00 -3.56533758e-01\n",
      "  4.73531311e-01  1.59313489e+00 -5.55027579e-01 -2.10032658e+00\n",
      "  4.32520191e-01  1.39053996e+00 -1.43020488e+00 -9.33970328e-01\n",
      " -1.10293614e+00  6.26912900e-01 -1.45399133e+00 -1.20792461e+00\n",
      "  1.03292299e+00 -1.53929446e+00 -2.07253281e-01 -5.51746690e-01\n",
      "  1.18712480e+00  1.15677657e+00 -1.13246415e+00 -8.43745864e-01\n",
      " -5.00892901e-01 -5.91117365e-01  1.43319152e+00  6.94991359e-01\n",
      " -1.42118243e+00 -4.97705803e-02 -4.69724449e-01  3.68552223e+00\n",
      "  1.48404531e+00  3.61981065e-01  2.30262726e+00  5.02965525e-02]\n",
      "unique age values [0.02173913 0.         0.2173913  0.32608696 0.30434783 0.2826087\n",
      " 0.60869565 0.41304348 0.91304348 0.15217391 0.95652174 0.10869565\n",
      " 0.82608696 0.19565217 0.73913043 0.26086957 0.34782609 0.89130435\n",
      " 0.97826087 0.80434783 0.08695652 0.17391304 0.36956522 0.13043478\n",
      " 0.5        0.43478261 0.39130435 0.06521739 0.65217391 0.47826087\n",
      " 0.86956522 0.76086957 0.54347826 1.         0.04347826 0.93478261\n",
      " 0.56521739 0.84782609 0.23913043 0.58695652 0.7826087  0.67391304\n",
      " 0.63043478 0.7173913  0.52173913 0.69565217 0.45652174]\n"
     ]
    }
   ],
   "source": [
    "print(\"unique bmi values\", df['bmi'].unique())\n",
    "print(\"unique age values\", df['age'].unique())\n"
   ]
  },
  {
   "cell_type": "markdown",
   "metadata": {},
   "source": [
    "## 2. Linear Regression Model Development"
   ]
  },
  {
   "cell_type": "code",
   "execution_count": 75,
   "metadata": {},
   "outputs": [],
   "source": [
    "from sklearn.model_selection import train_test_split\n",
    "from sklearn.linear_model import LinearRegression\n",
    "from sklearn.metrics import mean_squared_error, r2_score\n",
    "import statsmodels.api as sm\n",
    "from statsmodels.stats.outliers_influence import variance_inflation_factor\n",
    "\n"
   ]
  },
  {
   "cell_type": "code",
   "execution_count": 76,
   "metadata": {},
   "outputs": [],
   "source": [
    "\n",
    "X = df[['age', 'sex', 'bmi', 'children', 'smoker', 'region']]  # Independent variables\n",
    "y = df['charges']  # Target variable (insurance cost)"
   ]
  },
  {
   "cell_type": "code",
   "execution_count": 77,
   "metadata": {},
   "outputs": [
    {
     "name": "stdout",
     "output_type": "stream",
     "text": [
      "VIF values:\n",
      "     Feature       VIF\n",
      "0     const  7.288068\n",
      "1       age  1.015394\n",
      "2       sex  1.008889\n",
      "3       bmi  1.040608\n",
      "4  children  1.002482\n",
      "5    smoker  1.006466\n",
      "6    region  1.025966\n"
     ]
    }
   ],
   "source": [
    "X_with_constant = sm.add_constant(X)\n",
    "\n",
    "vif_data = pd.DataFrame()\n",
    "vif_data[\"Feature\"] = X_with_constant.columns\n",
    "vif_data[\"VIF\"] = [variance_inflation_factor(X_with_constant.values, i) for i in range(X_with_constant.shape[1])]\n",
    "\n",
    "print(\"VIF values:\\n\", vif_data)"
   ]
  },
  {
   "cell_type": "markdown",
   "metadata": {},
   "source": [
    "-**Variance Inflation Factor (VIF) is used to detect multicollinearity among independent variables. Multicollinearity occurs when one feature can be predicted from the others, which can destabilize the model's coefficients.**\n",
    "\n",
    "-**VIF values for all the variables were close to 1, meaning there is no significant multicollinearity among the features. This suggests that the selected features are not strongly correlated with each other and are suitable for the model**"
   ]
  },
  {
   "cell_type": "code",
   "execution_count": 78,
   "metadata": {},
   "outputs": [
    {
     "data": {
      "text/html": [
       "<style>#sk-container-id-2 {color: black;background-color: white;}#sk-container-id-2 pre{padding: 0;}#sk-container-id-2 div.sk-toggleable {background-color: white;}#sk-container-id-2 label.sk-toggleable__label {cursor: pointer;display: block;width: 100%;margin-bottom: 0;padding: 0.3em;box-sizing: border-box;text-align: center;}#sk-container-id-2 label.sk-toggleable__label-arrow:before {content: \"▸\";float: left;margin-right: 0.25em;color: #696969;}#sk-container-id-2 label.sk-toggleable__label-arrow:hover:before {color: black;}#sk-container-id-2 div.sk-estimator:hover label.sk-toggleable__label-arrow:before {color: black;}#sk-container-id-2 div.sk-toggleable__content {max-height: 0;max-width: 0;overflow: hidden;text-align: left;background-color: #f0f8ff;}#sk-container-id-2 div.sk-toggleable__content pre {margin: 0.2em;color: black;border-radius: 0.25em;background-color: #f0f8ff;}#sk-container-id-2 input.sk-toggleable__control:checked~div.sk-toggleable__content {max-height: 200px;max-width: 100%;overflow: auto;}#sk-container-id-2 input.sk-toggleable__control:checked~label.sk-toggleable__label-arrow:before {content: \"▾\";}#sk-container-id-2 div.sk-estimator input.sk-toggleable__control:checked~label.sk-toggleable__label {background-color: #d4ebff;}#sk-container-id-2 div.sk-label input.sk-toggleable__control:checked~label.sk-toggleable__label {background-color: #d4ebff;}#sk-container-id-2 input.sk-hidden--visually {border: 0;clip: rect(1px 1px 1px 1px);clip: rect(1px, 1px, 1px, 1px);height: 1px;margin: -1px;overflow: hidden;padding: 0;position: absolute;width: 1px;}#sk-container-id-2 div.sk-estimator {font-family: monospace;background-color: #f0f8ff;border: 1px dotted black;border-radius: 0.25em;box-sizing: border-box;margin-bottom: 0.5em;}#sk-container-id-2 div.sk-estimator:hover {background-color: #d4ebff;}#sk-container-id-2 div.sk-parallel-item::after {content: \"\";width: 100%;border-bottom: 1px solid gray;flex-grow: 1;}#sk-container-id-2 div.sk-label:hover label.sk-toggleable__label {background-color: #d4ebff;}#sk-container-id-2 div.sk-serial::before {content: \"\";position: absolute;border-left: 1px solid gray;box-sizing: border-box;top: 0;bottom: 0;left: 50%;z-index: 0;}#sk-container-id-2 div.sk-serial {display: flex;flex-direction: column;align-items: center;background-color: white;padding-right: 0.2em;padding-left: 0.2em;position: relative;}#sk-container-id-2 div.sk-item {position: relative;z-index: 1;}#sk-container-id-2 div.sk-parallel {display: flex;align-items: stretch;justify-content: center;background-color: white;position: relative;}#sk-container-id-2 div.sk-item::before, #sk-container-id-2 div.sk-parallel-item::before {content: \"\";position: absolute;border-left: 1px solid gray;box-sizing: border-box;top: 0;bottom: 0;left: 50%;z-index: -1;}#sk-container-id-2 div.sk-parallel-item {display: flex;flex-direction: column;z-index: 1;position: relative;background-color: white;}#sk-container-id-2 div.sk-parallel-item:first-child::after {align-self: flex-end;width: 50%;}#sk-container-id-2 div.sk-parallel-item:last-child::after {align-self: flex-start;width: 50%;}#sk-container-id-2 div.sk-parallel-item:only-child::after {width: 0;}#sk-container-id-2 div.sk-dashed-wrapped {border: 1px dashed gray;margin: 0 0.4em 0.5em 0.4em;box-sizing: border-box;padding-bottom: 0.4em;background-color: white;}#sk-container-id-2 div.sk-label label {font-family: monospace;font-weight: bold;display: inline-block;line-height: 1.2em;}#sk-container-id-2 div.sk-label-container {text-align: center;}#sk-container-id-2 div.sk-container {/* jupyter's `normalize.less` sets `[hidden] { display: none; }` but bootstrap.min.css set `[hidden] { display: none !important; }` so we also need the `!important` here to be able to override the default hidden behavior on the sphinx rendered scikit-learn.org. See: https://github.com/scikit-learn/scikit-learn/issues/21755 */display: inline-block !important;position: relative;}#sk-container-id-2 div.sk-text-repr-fallback {display: none;}</style><div id=\"sk-container-id-2\" class=\"sk-top-container\"><div class=\"sk-text-repr-fallback\"><pre>LinearRegression()</pre><b>In a Jupyter environment, please rerun this cell to show the HTML representation or trust the notebook. <br />On GitHub, the HTML representation is unable to render, please try loading this page with nbviewer.org.</b></div><div class=\"sk-container\" hidden><div class=\"sk-item\"><div class=\"sk-estimator sk-toggleable\"><input class=\"sk-toggleable__control sk-hidden--visually\" id=\"sk-estimator-id-2\" type=\"checkbox\" checked><label for=\"sk-estimator-id-2\" class=\"sk-toggleable__label sk-toggleable__label-arrow\">LinearRegression</label><div class=\"sk-toggleable__content\"><pre>LinearRegression()</pre></div></div></div></div></div>"
      ],
      "text/plain": [
       "LinearRegression()"
      ]
     },
     "execution_count": 78,
     "metadata": {},
     "output_type": "execute_result"
    }
   ],
   "source": [
    "X_train, X_test, y_train, y_test = train_test_split(X, y, test_size=0.2, random_state=42)\n",
    "\n",
    "lin_reg = LinearRegression()\n",
    "lin_reg.fit(X_train, y_train)"
   ]
  },
  {
   "cell_type": "code",
   "execution_count": 80,
   "metadata": {},
   "outputs": [
    {
     "name": "stdout",
     "output_type": "stream",
     "text": [
      "R-squared: 0.7833463107364538\n",
      "Mean Squared Error: 33635210.43117841\n"
     ]
    }
   ],
   "source": [
    "y_pred = lin_reg.predict(X_test)\n",
    "\n",
    "r2 = r2_score(y_test, y_pred)\n",
    "mse = mean_squared_error(y_test, y_pred)\n",
    "\n",
    "print(f\"R-squared: {r2}\")\n",
    "print(f\"Mean Squared Error: {mse}\")"
   ]
  },
  {
   "cell_type": "markdown",
   "metadata": {},
   "source": [
    "- **R-squared = 0.7833**: This value indicates that 78.33% of the variance in the insurance charges can be explained by the selected features. A high R-squared value suggests that the model is a good fit for the data, though it doesn’t guarantee that the model is perfect. Approximately 21.67% of the variance in charges is not captured by this model, which could be due to factors not included in the dataset.\n",
    "\n",
    "- **Mean Squared Error (MSE) = 33,635,210:** This represents the average squared difference between the actual and predicted insurance charges. A lower MSE indicates better performance. In this case, the MSE value is relatively large, which means that while the model captures the general trend well (as indicated by the R-squared value), the individual predictions may have a considerable average error."
   ]
  },
  {
   "cell_type": "markdown",
   "metadata": {},
   "source": [
    "## 3. Model Evaluation"
   ]
  },
  {
   "cell_type": "code",
   "execution_count": 81,
   "metadata": {},
   "outputs": [
    {
     "name": "stdout",
     "output_type": "stream",
     "text": [
      "Mean Absolute Error (MAE): 4186.508898366434\n",
      "Mean Squared Error (MSE): 33635210.43117841\n",
      "Root Mean Squared Error (RMSE): 5799.587091438356\n",
      "R-squared (R2) Score: 0.7833463107364538\n",
      "Adjusted R-squared: 0.7783657661556826\n",
      "Residual Sum of Squares (RSS): 9014236395.555815\n",
      "Explained Variance Score: 0.7836717590532513\n"
     ]
    }
   ],
   "source": [
    "from sklearn.metrics import mean_absolute_error, mean_squared_error, r2_score, explained_variance_score\n",
    "import numpy as np\n",
    "\n",
    "mae = mean_absolute_error(y_test, y_pred)\n",
    "mse = mean_squared_error(y_test, y_pred)\n",
    "rmse = np.sqrt(mse)\n",
    "\n",
    "r2 = r2_score(y_test, y_pred)\n",
    "\n",
    "n = X_test.shape[0]  # number of observations\n",
    "p = X_test.shape[1]  # number of predictors\n",
    "adj_r2 = 1 - (1 - r2) * (n - 1) / (n - p - 1)\n",
    "\n",
    "rss = np.sum((y_test - y_pred) ** 2)\n",
    "\n",
    "explained_var = explained_variance_score(y_test, y_pred)\n",
    "\n",
    "print(f\"Mean Absolute Error (MAE): {mae}\")\n",
    "print(f\"Mean Squared Error (MSE): {mse}\")\n",
    "print(f\"Root Mean Squared Error (RMSE): {rmse}\")\n",
    "print(f\"R-squared (R2) Score: {r2}\")\n",
    "print(f\"Adjusted R-squared: {adj_r2}\")\n",
    "print(f\"Residual Sum of Squares (RSS): {rss}\")\n",
    "print(f\"Explained Variance Score: {explained_var}\")\n"
   ]
  },
  {
   "cell_type": "markdown",
   "metadata": {},
   "source": [
    "1. **Mean Absolute Error (MAE): 4186.51**  \n",
    "   - On average, predictions deviate from actual charges by $4,186.51.\n",
    "\n",
    "2. **Mean Squared Error (MSE): 33,635,210.43**  \n",
    "   - The average squared error of predictions is approximately $33.64 million.\n",
    "\n",
    "3. **Root Mean Squared Error (RMSE): 5,799.59**  \n",
    "   - The error estimate, in the same units as the target variable, is about $5,799.59.\n",
    "\n",
    "4. **R-squared (R²) Score: 0.7833**  \n",
    "   - The model explains 78.33% of the variance in insurance charges.\n",
    "\n",
    "5. **Adjusted R-squared: 0.7784**  \n",
    "   - The adjusted R-squared value of 0.7784 confirms a strong model fit, accounting for the number of predictors.\n",
    "\n",
    "6. **Residual Sum of Squares (RSS): 9,014,236,395.56**  \n",
    "   - The total squared error in predictions amounts to $9.01 billion.\n",
    "\n",
    "7. **Explained Variance Score: 0.7837**  \n",
    "   - The model captures 78.37% of the variance in the target variable."
   ]
  },
  {
   "cell_type": "markdown",
   "metadata": {},
   "source": [
    "## 4. Feature Importance Analysis:"
   ]
  },
  {
   "cell_type": "markdown",
   "metadata": {},
   "source": [
    "**Coeffecient Interpretation**"
   ]
  },
  {
   "cell_type": "code",
   "execution_count": 83,
   "metadata": {},
   "outputs": [
    {
     "name": "stdout",
     "output_type": "stream",
     "text": [
      "    Feature   Coefficient\n",
      "0       age  11824.588128\n",
      "1       sex    -18.791457\n",
      "2       bmi   2046.892957\n",
      "3  children    425.091456\n",
      "4    smoker  23647.818096\n",
      "5    region   -271.284266\n"
     ]
    }
   ],
   "source": [
    "feature_names = X_train.columns\n",
    "\n",
    "coefficients = lin_reg.coef_\n",
    "\n",
    "coef_df = pd.DataFrame({\n",
    "    'Feature': feature_names,\n",
    "    'Coefficient': coefficients\n",
    "})\n",
    "\n",
    "\n",
    "print(coef_df)\n"
   ]
  },
  {
   "cell_type": "markdown",
   "metadata": {},
   "source": [
    "**age:** For each additional year of age, medical insurance costs increase by $11,824.59.\n",
    "\n",
    "**sex:** Being female (encoded as 0) decreases medical insurance costs by $18.79 compared to being male.\n",
    "\n",
    "**bmi:** For each additional unit of BMI, medical insurance costs increase by $2,046.89.\n",
    "\n",
    "**children:** Each additional child increases medical insurance costs by $425.09.\n",
    "\n",
    "**smoker:** Smokers incur $23,647.82 more in medical insurance costs compared to non-smokers.\n",
    "\n",
    "**region:** Each unit increase in the region code decreases medical insurance costs by $271.28."
   ]
  },
  {
   "cell_type": "markdown",
   "metadata": {},
   "source": [
    "**Feature ranking**"
   ]
  },
  {
   "cell_type": "code",
   "execution_count": 85,
   "metadata": {},
   "outputs": [
    {
     "name": "stdout",
     "output_type": "stream",
     "text": [
      "    Feature   Coefficient  Absolute Coefficient\n",
      "4    smoker  23647.818096          23647.818096\n",
      "0       age  11824.588128          11824.588128\n",
      "2       bmi   2046.892957           2046.892957\n",
      "3  children    425.091456            425.091456\n",
      "5    region   -271.284266            271.284266\n",
      "1       sex    -18.791457             18.791457\n"
     ]
    }
   ],
   "source": [
    "coef_df['Absolute Coefficient'] = coef_df['Coefficient'].abs()\n",
    "ranked_features = coef_df.sort_values(by='Absolute Coefficient', ascending=False)\n",
    "\n",
    "print(ranked_features)\n"
   ]
  },
  {
   "cell_type": "markdown",
   "metadata": {},
   "source": [
    "Smoking status has the highest impact on costs with an absolute coefficient of $23,647.82, followed by age ($11,824.59), BMI ($2,046.89), children ($425.09), region ($271.28), and sex ($18.79) with decreasing significance in that order."
   ]
  },
  {
   "cell_type": "markdown",
   "metadata": {},
   "source": [
    "## 5. Visualization"
   ]
  },
  {
   "cell_type": "code",
   "execution_count": 89,
   "metadata": {},
   "outputs": [
    {
     "data": {
      "image/png": "[encoded data removed]",
      "text/plain": [
       "<Figure size 640x480 with 1 Axes>"
      ]
     },
     "metadata": {},
     "output_type": "display_data"
    }
   ],
   "source": [
    "import matplotlib.pyplot as plt\n",
    "\n",
    "plt.scatter(y_test, y_pred, alpha=0.5)\n",
    "plt.plot([min(y_test), max(y_test)], [min(y_test), max(y_test)], color='red', linestyle='--')  # Line for perfect prediction\n",
    "plt.xlabel('Actual Insurance Charges')\n",
    "plt.ylabel('Predicted Insurance Charges')\n",
    "plt.title('Actual vs. Predicted Insurance Charges')\n",
    "plt.grid(True)\n",
    "plt.show()\n"
   ]
  },
  {
   "cell_type": "markdown",
   "metadata": {},
   "source": [
    "Closer points to the red line indicate better predictions, as the model's predictions closely match the actual insurance charges.\n",
    "\n",
    "Points farther from the red line suggest the model's predictions deviate from the actual values, indicating potential prediction errors or variance in the model's accuracy for certain data points.\n",
    "\n",
    "\n",
    "From the scatter plot, we can say\n",
    "**The model is struggling to predict high insurance charges, as shown by the points far from the red line in the upper part of the graph. This suggests the model is too simple and cannot handle the more complex cases. When a model is too simple and misses important patterns, it's called underfitting.**\n"
   ]
  },
  {
   "cell_type": "markdown",
   "metadata": {},
   "source": [
    "## 6. Residual analysis"
   ]
  },
  {
   "cell_type": "markdown",
   "metadata": {},
   "source": [
    "**Residual:** A residual is the difference between the actual value and the predicted value from a model. Think of it as how much the model's prediction misses the mark.\n",
    "\n",
    "**Residual Plot:** A residual plot is a graph that shows the residuals on the vertical axis and the predicted values (or sometimes the actual values, here we've taken the predicted values) on the horizontal axis. It's used to check if there are patterns in the residuals that might suggest problems with the model. If the residuals are randomly scattered around zero, it generally means the model is a good fit. If there’s a pattern, it might indicate that the model isn’t capturing something important."
   ]
  },
  {
   "cell_type": "code",
   "execution_count": 88,
   "metadata": {},
   "outputs": [
    {
     "data": {
      "image/png": "[encoded data removed]",
      "text/plain": [
       "<Figure size 640x480 with 1 Axes>"
      ]
     },
     "metadata": {},
     "output_type": "display_data"
    }
   ],
   "source": [
    "import matplotlib.pyplot as plt\n",
    "\n",
    "residuals = y_test - y_pred\n",
    "\n",
    "plt.scatter(y_pred, residuals, alpha=0.5)\n",
    "plt.axhline(y=0, color='red', linestyle='--')  # Horizontal line at 0\n",
    "plt.xlabel('Predicted Insurance Charges')\n",
    "plt.ylabel('Residuals')\n",
    "plt.title('Residual Plot')\n",
    "plt.grid(True)\n",
    "plt.show()\n"
   ]
  },
  {
   "cell_type": "markdown",
   "metadata": {},
   "source": [
    "The dots should be spread randomly around the red line, but here, we see patterns. Hence our model needs to be improved"
   ]
  }
 ],
 "metadata": {
  "kernelspec": {
   "display_name": "base",
   "language": "python",
   "name": "python3"
  },
  "language_info": {
   "codemirror_mode": {
    "name": "ipython",
    "version": 3
   },
   "file_extension": ".py",
   "mimetype": "text/x-python",
   "name": "python",
   "nbconvert_exporter": "python",
   "pygments_lexer": "ipython3",
   "version": "3.10.9"
  }
 },
 "nbformat": 4,
 "nbformat_minor": 2
}
